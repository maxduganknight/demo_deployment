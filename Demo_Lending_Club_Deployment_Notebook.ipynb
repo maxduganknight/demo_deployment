{
	"cells": [
		{
			"id": "64f9d27201f25e5685206e91",
			"cell_type": "code",
			"source": "import datarobot as dr\nimport pandas as pd\nimport os\nfrom datetime import datetime\nimport numpy as np\nimport json",
			"metadata": {
				"name": "First Cell",
				"collapsed": true,
				"scrolled": "auto",
				"datarobot": {
					"language": "python"
				},
				"hide_code": false,
				"hide_results": false,
				"disable_run": false,
				"chart_settings": null,
				"custom_metric_settings": null,
				"dataframe_view_options": null
			},
			"outputs": [],
			"execution_count": null
		},
		{
			"id": "64f9d2a90ab3f085bd15ce28",
			"cell_type": "code",
			"source": "client = dr.Client()\ndeployment_id = '632b31a6c6927eec99dcba24'\ndeployment = dr.Deployment.get(deployment_id=deployment_id)\ncustom_metric_id = '642e0120fd42fe807517bd24'\ncustom_metric_api_url = 'deployments/{}/customMetrics/{}/fromJSON/'",
			"metadata": {
				"collapsed": false,
				"scrolled": false,
				"datarobot": {
					"language": "python"
				},
				"hide_code": false,
				"hide_results": false,
				"disable_run": false,
				"chart_settings": null,
				"custom_metric_settings": null,
				"dataframe_view_options": null
			},
			"outputs": [],
			"execution_count": null
		},
		{
			"id": "64f9d2fc0ab3f085bd15ce42",
			"cell_type": "code",
			"source": "def prepare_prediction_data(df, sample_size):\n    df_sample = df.sample(n = sample_size)\n    return df_sample\n\ndef make_predictions(deployment_id, df):\n    job, predictions = dr.BatchPredictionJob.score_pandas(deployment_id, to_score_df_sample, read_timeout = 1000)\n    return(predictions)\n\ndef prepare_actuals(df):\n    actuals_v1 = df[['ASSOCIATION_ID', 'is_bad']]\n    actuals_v2 = actuals_v1.rename(columns = {'ASSOCIATION_ID': 'association_id', 'is_bad': 'actual_value'})\n    actuals = actuals_v2.astype({'association_id': str})\n    return actuals \n\ndef calculate_profit(row):\n    if row['prediction'] == 1:\n        return 0\n    elif (row['prediction'] == 0 and row['actual_value'] == 1):\n        return -row['loan_amt']\n    elif (row['prediction'] == 0 and row['actual_value'] == 0):\n        return (row['loan_amt']*float(row['int_rate'].strip('%')))/100\n\ndef prepare_custom_metric_data(predictions, actuals):\n    predictions = predictions.astype({'ASSOCIATION_ID_x': str})\n    combined_df = predictions.merge(actuals, how='inner', left_on='ASSOCIATION_ID_x', right_on='association_id')\n    custom_metric_data = combined_df[['association_id', 'is_bad_PREDICTION', 'actual_value', 'loan_amt', 'int_rate']].rename(columns = {'is_bad_PREDICTION': 'prediction'})\n    custom_metric_data = custom_metric_data.assign(profit=custom_metric_data.apply(calculate_profit, axis=1))\n    custom_metric_data['prediction_date'] = (datetime.now().strftime('%Y%m%d'))\n    return custom_metric_data\n\ndef submit_custom_metric_data(df):\n    rows = [\n        {'timestamp': prediction_date, 'value': profit}\n        for prediction_date, profit in zip(df['prediction_date'], df['profit'])\n    ]\n    response = client.post(\n        custom_metric_api_url.format(deployment_id, custom_metric_id),\n        json={'modelPackageId': '6388db7cfd0045e2d50cdbb5', 'buckets': rows}\n    )\n    response.raise_for_status()\n\ndef write_file(filename, data):\n    # Write log file\n    if os.path.isfile(filename):\n        with open(filename, 'a') as f:\n            f.write('\\n' + data)\n    else:\n        with open(filename, 'w') as f:\n            f.write(data)",
			"metadata": {
				"collapsed": false,
				"scrolled": false,
				"datarobot": {
					"language": "python"
				},
				"hide_code": false,
				"hide_results": false,
				"disable_run": false,
				"chart_settings": null,
				"custom_metric_settings": null,
				"dataframe_view_options": null
			},
			"outputs": [],
			"execution_count": null
		},
		{
			"id": "64f9d3424b03f060e90efe5f",
			"cell_type": "code",
			"source": "now = datetime.now()\nwrite_file('storage/log.txt', 'Script called at {time}\\n'.format(time = now))\nto_score_df = pd.read_csv('storage/lending_club_scoring_data.csv')\nto_score_df_sample = prepare_prediction_data(to_score_df, 100)\npredictions = make_predictions(deployment_id, to_score_df_sample)\nactuals = prepare_actuals(to_score_df_sample)\ncustom_metric_data = prepare_custom_metric_data(predictions, actuals)\ncustom_metric_data.to_csv(\"custom_metric_data.csv\")\ndeployment.submit_actuals(actuals)\nsubmit_custom_metric_data(custom_metric_data)",
			"metadata": {
				"collapsed": false,
				"scrolled": false,
				"datarobot": {
					"language": "python"
				},
				"hide_code": false,
				"hide_results": false,
				"disable_run": false,
				"chart_settings": null,
				"custom_metric_settings": null,
				"dataframe_view_options": null
			},
			"outputs": [
				{
					"output_type": "execute_result",
					"execution_count": 4,
					"data": {
						"text/plain": "Streaming DataFrame as CSV data to DataRobot\nCreated Batch Prediction job ID 654a5fdb333fdd50c1d09313\nWaiting for DataRobot to start processing\n"
					},
					"metadata": {}
				},
				{
					"output_type": "execute_result",
					"execution_count": 4,
					"data": {
						"text/plain": "Job has started processing at DataRobot. Streaming results.\n"
					},
					"metadata": {}
				}
			],
			"execution_count": null
		},
		{
			"id": "64f9d3c101f25e5685206ef8",
			"cell_type": "code",
			"source": "",
			"metadata": {
				"collapsed": false,
				"scrolled": false,
				"datarobot": {
					"language": "python"
				},
				"hide_code": false,
				"hide_results": false,
				"disable_run": false,
				"chart_settings": null,
				"custom_metric_settings": null,
				"dataframe_view_options": null
			},
			"outputs": [],
			"execution_count": null
		}
	],
	"metadata": {
		"kernelspec": {
			"name": "python",
			"language": "python",
			"display_name": "[DataRobot] Python 3.9 Notebook Drop-In"
		},
		"language_info": {
			"name": "python",
			"version": ""
		}
	},
	"nbformat": 4,
	"nbformat_minor": 5
}